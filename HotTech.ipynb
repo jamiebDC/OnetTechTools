{
 "cells": [
  {
   "cell_type": "markdown",
   "metadata": {},
   "source": [
    "# Compare Hot Technology skills Examples, using data file downloaded from onetcenter.org\n",
    "# 1. Excel's function to remove duplicates says there are 790 unique values\n",
    "# 2. Pandas unique() function says there are 805 unique values\n",
    "# 3. ONET support by email says there are 805 unique values in this file\n"
   ]
  },
  {
   "cell_type": "code",
   "execution_count": null,
   "metadata": {},
   "outputs": [],
   "source": [
    "import pandas as pd\n",
    "ts = pd.read_excel(r'Technology Skills.xlsx')\n",
    "ts.rename(columns={\"O*NET-SOC Code\": \"Onetcode\",\n",
    "    \"Commodity Code\" :  \"CCode\",\n",
    "    \"Commodity Title\":  \"CTitle\",\n",
    "    \"Hot Techology\":    \"HotTech\"}, inplace=True)"
   ]
  },
  {
   "cell_type": "markdown",
   "metadata": {},
   "source": [
    "hot techs only; where the column HotTech = \"Y\""
   ]
  },
  {
   "cell_type": "code",
   "execution_count": null,
   "metadata": {},
   "outputs": [],
   "source": [
    "tsh = ts.loc[ (ts.iloc[:,5] == 'Y')]"
   ]
  }
 ],
 "metadata": {
  "interpreter": {
   "hash": "ebcbc18d8443ae769f61e111d7d1b6b07933c1c2294e6d4c76620c2c84e71db7"
  },
  "kernelspec": {
   "display_name": "Python 3.8.5 64-bit",
   "name": "python3"
  },
  "language_info": {
   "codemirror_mode": {
    "name": "ipython",
    "version": 3
   },
   "file_extension": ".py",
   "mimetype": "text/x-python",
   "name": "python",
   "nbconvert_exporter": "python",
   "pygments_lexer": "ipython3",
   "version": "3.8.5"
  },
  "orig_nbformat": 4
 },
 "nbformat": 4,
 "nbformat_minor": 2
}
