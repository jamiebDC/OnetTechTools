{
 "cells": [
  {
   "cell_type": "code",
   "execution_count": 10,
   "metadata": {},
   "outputs": [],
   "source": [
    "import pandas as pd\n"
   ]
  },
  {
   "cell_type": "code",
   "execution_count": 11,
   "metadata": {},
   "outputs": [
    {
     "data": {
      "text/plain": [
       "(386, 6)"
      ]
     },
     "execution_count": 11,
     "metadata": {},
     "output_type": "execute_result"
    }
   ],
   "source": [
    "technew = pd.read_excel(r'data\\Technology Skills.xlsx')     \n",
    "techold = pd.read_excel(r'data\\Technology Skills 260.xlsx') \n",
    "techdiff = pd.concat([technew, pd.concat([techold]*2)]).drop_duplicates(['Title','Commodity Code'], keep=False)\n",
    "techdiff.shape\n"
   ]
  },
  {
   "cell_type": "markdown",
   "metadata": {},
   "source": [
    "We see there are 386 rows different between the 2 Technology Skills tables. Results don't tell us which are old vs new, unfortunately. "
   ]
  },
  {
   "cell_type": "code",
   "execution_count": 12,
   "metadata": {},
   "outputs": [
    {
     "data": {
      "text/plain": [
       "(378, 8)"
      ]
     },
     "execution_count": 12,
     "metadata": {},
     "output_type": "execute_result"
    }
   ],
   "source": [
    "unnew = pd.read_excel(r'data\\UNSPSC Reference.xlsx')\n",
    "unold = pd.read_excel(r'data\\UNSPSC Reference 26.0.xlsx')\n",
    "undiff = pd.concat([unnew, pd.concat([unold]*2)]).drop_duplicates(['Commodity Code', 'Commodity Title'], keep=False)\n",
    "undiff.shape"
   ]
  },
  {
   "cell_type": "markdown",
   "metadata": {},
   "source": [
    "WE see there are 378 different rows between the 2 UNSPSC tables. "
   ]
  },
  {
   "cell_type": "code",
   "execution_count": 13,
   "metadata": {},
   "outputs": [
    {
     "data": {
      "text/plain": [
       "(467, 5)"
      ]
     },
     "execution_count": 13,
     "metadata": {},
     "output_type": "execute_result"
    }
   ],
   "source": [
    "toolsnew = pd.read_excel(r'data\\Tools Used.xlsx')     \n",
    "toolsold = pd.read_excel(r'data\\Tools Used 26.0.xlsx') \n",
    "toolsdiff = pd.concat([toolsnew, pd.concat([toolsold]*2)]).drop_duplicates(['Title','Commodity Code'], keep=False)\n",
    "toolsdiff.shape"
   ]
  },
  {
   "cell_type": "markdown",
   "metadata": {},
   "source": [
    "There are 467 different rows between the 2 tables of Tools Used. "
   ]
  },
  {
   "cell_type": "code",
   "execution_count": 14,
   "metadata": {},
   "outputs": [],
   "source": [
    "undiff.to_csv('output_UNSPSC_diff.csv')\n",
    "techdiff.to_csv('output_Technology_Skills_diff.csv')\n",
    "toolsdiff.to_csv('output_Tools_Used_diff.csv')"
   ]
  }
 ],
 "metadata": {
  "interpreter": {
   "hash": "ebcbc18d8443ae769f61e111d7d1b6b07933c1c2294e6d4c76620c2c84e71db7"
  },
  "kernelspec": {
   "display_name": "Python 3.8.5 64-bit",
   "language": "python",
   "name": "python3"
  },
  "language_info": {
   "codemirror_mode": {
    "name": "ipython",
    "version": 3
   },
   "file_extension": ".py",
   "mimetype": "text/x-python",
   "name": "python",
   "nbconvert_exporter": "python",
   "pygments_lexer": "ipython3",
   "version": "3.8.5"
  },
  "orig_nbformat": 4
 },
 "nbformat": 4,
 "nbformat_minor": 2
}
