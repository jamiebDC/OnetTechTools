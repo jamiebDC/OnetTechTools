{
 "cells": [
  {
   "cell_type": "code",
   "execution_count": 10,
   "metadata": {},
   "outputs": [],
   "source": [
    "import pandas as pd\n"
   ]
  },
  {
   "cell_type": "code",
   "execution_count": 21,
   "metadata": {},
   "outputs": [
    {
     "data": {
      "text/plain": [
       "(1900, 6)"
      ]
     },
     "execution_count": 21,
     "metadata": {},
     "output_type": "execute_result"
    }
   ],
   "source": [
    "technew = pd.read_excel(r'data\\Technology Skills.xlsx')     \n",
    "techold = pd.read_excel(r'data\\Technology Skills 260.xlsx') \n",
    "techdiff = pd.concat([technew, pd.concat([techold]*2)]).drop_duplicates(['O*NET-SOC Code','Title','Example','Commodity Code', 'Commodity Title', 'Hot Technology'], keep=False)\n",
    "techdiff.shape\n"
   ]
  },
  {
   "cell_type": "markdown",
   "metadata": {},
   "source": [
    "We see there are 1900 rows different between the 2 Technology Skills tables, comparing all the fields. This agrees with O*NET's count of differences. \n",
    "Results don't tell us which are old vs new, unfortunately. "
   ]
  },
  {
   "cell_type": "code",
   "execution_count": 22,
   "metadata": {},
   "outputs": [
    {
     "data": {
      "text/plain": [
       "(416, 8)"
      ]
     },
     "execution_count": 22,
     "metadata": {},
     "output_type": "execute_result"
    }
   ],
   "source": [
    "unnew = pd.read_excel(r'data\\UNSPSC Reference.xlsx')\n",
    "unold = pd.read_excel(r'data\\UNSPSC Reference 26.0.xlsx')\n",
    "undiff = pd.concat([unnew, pd.concat([unold]*2)]).drop_duplicates(['Commodity Code', 'Commodity Title',\n",
    "'Class Code', 'Class Title', 'Family Code', 'Family Title', 'Segment Code', 'Segment Title'], keep=False)\n",
    "undiff.shape"
   ]
  },
  {
   "cell_type": "markdown",
   "metadata": {},
   "source": [
    "WE see there are 416 different rows between the 2 UNSPSC tables, comparing all the fields. "
   ]
  },
  {
   "cell_type": "code",
   "execution_count": 20,
   "metadata": {},
   "outputs": [
    {
     "data": {
      "text/plain": [
       "(3127, 5)"
      ]
     },
     "execution_count": 20,
     "metadata": {},
     "output_type": "execute_result"
    }
   ],
   "source": [
    "toolsnew = pd.read_excel(r'data\\Tools Used.xlsx')     \n",
    "toolsold = pd.read_excel(r'data\\Tools Used 26.0.xlsx') \n",
    "toolsdiff = pd.concat([toolsnew, pd.concat([toolsold]*2)]).drop_duplicates(['O*NET-SOC Code','Title','Example','Commodity Code', 'Commodity Title'], keep=False)\n",
    "toolsdiff.shape"
   ]
  },
  {
   "cell_type": "markdown",
   "metadata": {},
   "source": [
    "There are 3127 different rows between the 2 tables of Tools Used, comparing all the fields. This agrees with ONET's count of differences. "
   ]
  },
  {
   "cell_type": "code",
   "execution_count": 23,
   "metadata": {},
   "outputs": [],
   "source": [
    "undiff.to_csv('output_UNSPSC_diff.csv')\n",
    "techdiff.to_csv('output_Technology_Skills_diff.csv')\n",
    "toolsdiff.to_csv('output_Tools_Used_diff.csv')"
   ]
  }
 ],
 "metadata": {
  "interpreter": {
   "hash": "ebcbc18d8443ae769f61e111d7d1b6b07933c1c2294e6d4c76620c2c84e71db7"
  },
  "kernelspec": {
   "display_name": "Python 3.8.5 64-bit",
   "language": "python",
   "name": "python3"
  },
  "language_info": {
   "codemirror_mode": {
    "name": "ipython",
    "version": 3
   },
   "file_extension": ".py",
   "mimetype": "text/x-python",
   "name": "python",
   "nbconvert_exporter": "python",
   "pygments_lexer": "ipython3",
   "version": "3.8.5"
  },
  "orig_nbformat": 4
 },
 "nbformat": 4,
 "nbformat_minor": 2
}
